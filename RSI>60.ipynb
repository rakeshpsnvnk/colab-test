{
  "nbformat": 4,
  "nbformat_minor": 0,
  "metadata": {
    "colab": {
      "provenance": [],
      "authorship_tag": "ABX9TyO0V64z5pPhMH167FKmFseP",
      "include_colab_link": true
    },
    "kernelspec": {
      "name": "python3",
      "display_name": "Python 3"
    },
    "language_info": {
      "name": "python"
    }
  },
  "cells": [
    {
      "cell_type": "markdown",
      "metadata": {
        "id": "view-in-github",
        "colab_type": "text"
      },
      "source": [
        "<a href=\"https://colab.research.google.com/github/rakeshpsnvnk/colab-test/blob/main/RSI%3E60.ipynb\" target=\"_parent\"><img src=\"https://colab.research.google.com/assets/colab-badge.svg\" alt=\"Open In Colab\"/></a>"
      ]
    },
    {
      "cell_type": "code",
      "execution_count": null,
      "metadata": {
        "id": "oAtiFJGTTwUy",
        "colab": {
          "base_uri": "https://localhost:8080/"
        },
        "outputId": "a88c9726-caea-4adb-c576-21f28c6a9f24"
      },
      "outputs": [
        {
          "output_type": "stream",
          "name": "stdout",
          "text": [
            "  Preparing metadata (setup.py) ... \u001b[?25l\u001b[?25hdone\n",
            "  Building wheel for ta (setup.py) ... \u001b[?25l\u001b[?25hdone\n"
          ]
        }
      ],
      "source": [
        "!pip install yfinance ta --quiet"
      ]
    },
    {
      "cell_type": "code",
      "source": [
        "import pandas as pd\n",
        "import ta\n",
        "import warnings\n",
        "warnings.simplefilter(action='ignore', category=FutureWarning)\n",
        "import yfinance as yf\n"
      ],
      "metadata": {
        "id": "xgsLZKKbUIvq"
      },
      "execution_count": null,
      "outputs": []
    },
    {
      "cell_type": "code",
      "source": [
        "\n"
      ],
      "metadata": {
        "id": "yyf0TB9-UOwA"
      },
      "execution_count": null,
      "outputs": []
    },
    {
      "cell_type": "code",
      "source": [
        "fo_symbols = [\n",
        "    \"ACC.NS\", \"ADANIENT.NS\", \"ADANIPORTS.NS\", \"AMBUJACEM.NS\", \"APOLLOHOSP.NS\", \"APOLLOTYRE.NS\", \"ASHOKLEY.NS\",\n",
        "    \"ASIANPAINT.NS\", \"AUROPHARMA.NS\", \"AXISBANK.NS\", \"BAJAJ-AUTO.NS\", \"BAJAJFINSV.NS\", \"BAJFINANCE.NS\",\n",
        "    \"BALKRISIND.NS\", \"BANDHANBNK.NS\", \"BANKBARODA.NS\", \"BATAINDIA.NS\", \"BEL.NS\", \"BERGEPAINT.NS\", \"BHARATFORG.NS\",\n",
        "    \"BHARTIARTL.NS\", \"BHEL.NS\", \"BIOCON.NS\", \"BOSCHLTD.NS\", \"BPCL.NS\", \"BRITANNIA.NS\", \"BSOFT.NS\", \"CANBK.NS\",\n",
        "    \"CHAMBLFERT.NS\", \"CHOLAFIN.NS\", \"CIPLA.NS\", \"COALINDIA.NS\", \"COFORGE.NS\", \"COLPAL.NS\", \"CONCOR.NS\", \"COROMANDEL.NS\",\n",
        "    \"CUMMINSIND.NS\", \"DABUR.NS\", \"DALBHARAT.NS\", \"DEEPAKNTR.NS\", \"DELTACORP.NS\", \"DIVISLAB.NS\", \"DLF.NS\",\n",
        "    \"DRREDDY.NS\", \"EICHERMOT.NS\", \"ESCORTS.NS\", \"EXIDEIND.NS\", \"FEDERALBNK.NS\", \"GAIL.NS\", \"GLENMARK.NS\", \"GMRINFRA.NS\",\n",
        "    \"GNFC.NS\", \"GODREJCP.NS\", \"GODREJPROP.NS\", \"GRANULES.NS\", \"GRASIM.NS\", \"GUJGASLTD.NS\", \"HAL.NS\", \"HAVELLS.NS\",\n",
        "    \"HCLTECH.NS\", \"HDFC.NS\", \"HDFCBANK.NS\", \"HDFCLIFE.NS\", \"HEROMOTOCO.NS\", \"HINDALCO.NS\", \"HINDCOPPER.NS\",\n",
        "    \"HINDPETRO.NS\", \"HINDUNILVR.NS\", \"IBULHSGFIN.NS\", \"ICICIBANK.NS\", \"ICICIPRULI.NS\", \"IDEA.NS\", \"IDFCFIRSTB.NS\",\n",
        "    \"IEX.NS\", \"IGL.NS\", \"INDHOTEL.NS\", \"INDIACEM.NS\", \"INDIAMART.NS\", \"INDIGO.NS\", \"INDUSINDBK.NS\", \"INFY.NS\",\n",
        "    \"INTELLECT.NS\", \"IOC.NS\", \"IPCALAB.NS\", \"IRCTC.NS\", \"ITC.NS\", \"JINDALSTEL.NS\", \"JSWSTEEL.NS\", \"JUBLFOOD.NS\",\n",
        "    \"KOTAKBANK.NS\", \"L&TFH.NS\", \"LALPATHLAB.NS\", \"LICHSGFIN.NS\", \"LT.NS\", \"LTI.NS\", \"LTTS.NS\", \"LUPIN.NS\",\n",
        "    \"M&M.NS\", \"M&MFIN.NS\", \"MANAPPURAM.NS\", \"MARICO.NS\", \"MARUTI.NS\", \"MCDOWELL-N.NS\", \"MCX.NS\", \"METROPOLIS.NS\",\n",
        "    \"MFSL.NS\", \"MGL.NS\", \"MINDTREE.NS\", \"MPHASIS.NS\", \"MRF.NS\", \"MUTHOOTFIN.NS\", \"NAM-INDIA.NS\", \"NATIONALUM.NS\",\n",
        "    \"NAUKRI.NS\", \"NAVINFLUOR.NS\", \"NESTLEIND.NS\", \"NMDC.NS\", \"NTPC.NS\", \"OBEROIRLTY.NS\", \"OFSS.NS\", \"ONGC.NS\",\n",
        "    \"PAGEIND.NS\", \"PEL.NS\", \"PETRONET.NS\", \"PFIZER.NS\", \"PIDILITIND.NS\", \"PIIND.NS\", \"PNB.NS\", \"POWERGRID.NS\",\n",
        "    \"PVR.NS\", \"RAMCOCEM.NS\", \"RBLBANK.NS\", \"RECLTD.NS\", \"RELIANCE.NS\", \"SAIL.NS\", \"SBILIFE.NS\", \"SBIN.NS\",\n",
        "    \"SHREECEM.NS\", \"SIEMENS.NS\", \"SRF.NS\", \"SRTRANSFIN.NS\", \"SUNPHARMA.NS\", \"SUNTV.NS\", \"SYNGENE.NS\", \"TATACHEM.NS\",\n",
        "    \"TATACONSUM.NS\", \"TATAMOTORS.NS\", \"TATAPOWER.NS\", \"TATASTEEL.NS\", \"TCS.NS\", \"TECHM.NS\", \"TITAN.NS\", \"TORNTPHARM.NS\",\n",
        "    \"TORNTPOWER.NS\", \"TRENT.NS\", \"TVSMOTOR.NS\", \"UBL.NS\", \"ULTRACEMCO.NS\", \"UPL.NS\", \"VEDL.NS\", \"VOLTAS.NS\",\n",
        "    \"WIPRO.NS\", \"ZEEL.NS\"\n",
        "]\n"
      ],
      "metadata": {
        "id": "qCgsOkxZNEaf"
      },
      "execution_count": null,
      "outputs": []
    },
    {
      "cell_type": "code",
      "source": [
        "def scan_stock(symbol):\n",
        "    try:\n",
        "        df = yf.download(symbol, period='3mo', interval='1d', progress=False)\n",
        "        df.dropna(inplace=True)\n",
        "\n",
        "        # RSI (14)\n",
        "        df['rsi'] = ta.momentum.RSIIndicator(close=df['Close'].squeeze(), window=14).rsi()\n",
        "\n",
        "        # Condition: RSI > 60\n",
        "        if df['rsi'].iloc[-1] > 60:\n",
        "            return True\n",
        "        return False\n",
        "    except Exception as e:\n",
        "        print(f\"Error scanning {symbol}: {e}\")\n",
        "        return False\n"
      ],
      "metadata": {
        "id": "PoFGZcPgUXsL"
      },
      "execution_count": null,
      "outputs": []
    }
  ]
}